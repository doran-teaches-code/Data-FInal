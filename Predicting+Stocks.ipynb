{
 "cells": [
  {
   "cell_type": "raw",
   "metadata": {},
   "source": [
    "# Predicting Stocks"
   ]
  },
  {
   "cell_type": "markdown",
   "metadata": {},
   "source": [
    "By: Doran Wu"
   ]
  },
  {
   "cell_type": "markdown",
   "metadata": {},
   "source": [
    "Date: 17 Janurary 2018\n",
    "***\n",
    "Class: 10.7\n",
    "***\n",
    "Teacher: Tracey Sconyers"
   ]
  },
  {
   "cell_type": "markdown",
   "metadata": {},
   "source": [
    "***\n",
    "*this is not a full representation of predicting stocks, a simulation\n",
    "***"
   ]
  },
  {
   "cell_type": "markdown",
   "metadata": {},
   "source": [
    "# Introduction"
   ]
  },
  {
   "cell_type": "markdown",
   "metadata": {},
   "source": [
    "I decided to predict stocks for my final because I saw a post on a website for easy coding projects. However, I was wrong, this was the hardest thing to code and understand. Sure I could copy and past all the code froma website, although this might have saved me time I decided to understand and analyze all the code and the steps it took to reach my goal.\n",
    "\n",
    "So, initially I decided to predict stocks for the Chinese, because of a very detailed tutorial I found. This taught me a little bit of what I needed to do, but I finally decided I wanted to predict stocks from the US, the Standard and Poor's 500 index. The Standard & Poor's 500, often abbreviated as the S&P 500, or just the S&P, is an American stock market index based on the market capitalizations,the value of a company that is traded on the stock market, calculated by multiplying the total number of shares by the present share price, of 500 large companies having common stock listed on the NYSE or NASDAQ. This is a list of all the companies on the index, https://en.wikipedia.org/wiki/List_of_S%26P_500_companies, that's if you really want to look.\n",
    "***\n",
    "**About My Data**\n",
    "- The dataset contains n = 41266 minutes of data ranging from April to August 2017 on 500 stocks as well as the total S&P 500 index price. Index and stocks are arranged in wide format. Their is constant change\n",
    "***\n",
    "So let's get started with predicting stocks."
   ]
  },
  {
   "cell_type": "markdown",
   "metadata": {},
   "source": [
    "# 1st Step: Importing"
   ]
  },
  {
   "cell_type": "code",
   "execution_count": 2,
   "metadata": {},
   "outputs": [
    {
     "name": "stdout",
     "output_type": "stream",
     "text": [
      "FINISHED IMPORTING SET PACKAGES\n",
      "- TENSORFLOW\n",
      "- NUMPY\n",
      "- PANDAS\n",
      "- MINMAXSCALER\n",
      "- MATPLOTLIB\n"
     ]
    }
   ],
   "source": [
    "def importpackages():\n",
    "    import tensorflow as tf\n",
    "    import numpy as np\n",
    "    import pandas as pd\n",
    "    from sklearn.preprocessing import MinMaxScaler\n",
    "    import matplotlib.pyplot as pltf\n",
    "importpackages()\n",
    "print(\"\"\"FINISHED IMPORTING SET PACKAGES\n",
    "- TENSORFLOW\n",
    "- NUMPY\n",
    "- PANDAS\n",
    "- MINMAXSCALER\n",
    "- MATPLOTLIB\"\"\")"
   ]
  },
  {
   "cell_type": "markdown",
   "metadata": {},
   "source": [
    "*Note: The \"as _\", is a condensed version of importing packages\n",
    "***\n",
    "**Tensor Flow**:\n",
    "- Using this package to develop my neural networks for predicting the curves and decays of stocks\n",
    "- Guide URL:https://www.tensorflow.org/get_started/get_started\n",
    "***\n",
    "**Numpy**:\n",
    "- Using this package because of the vast pool of functions for computing multi-dimensional arrays, in this case I will be using this to help store data for future use\n",
    "- An array is a special variable, which can hold more than one value at a time, a regular variable can only hold one value, either a string or number\n",
    "- Guide URL:http://www.numpy.org/\n",
    "***\n",
    "**Pandas**:\n",
    "- Using pandas to help in my data analysis and manipulation, in this case I will be using pandas to open up my data files and link it with my code\n",
    "- Guide URL:https://pandas.pydata.org/\n",
    "***\n",
    "**MinMaxScaler**\n",
    "- Using minmaxscaler to help train my data, this sets a certain range of data that I want to train from 0 to any limit\n",
    "- Guide: http://scikit-learn.org/stable/modules/generated/sklearn.preprocessing.MinMaxScaler.html\n",
    "***\n",
    "**matplotlib**\n",
    "- Using this to help visualize my data, helping me create graphs, for this case showing how close I got to the actual numbers\n",
    "- Guide URL:https://matplotlib.org/"
   ]
  },
  {
   "cell_type": "markdown",
   "metadata": {},
   "source": [
    "# 2nd Step: Importing the Data"
   ]
  },
  {
   "cell_type": "code",
   "execution_count": 3,
   "metadata": {},
   "outputs": [
    {
     "name": "stdout",
     "output_type": "stream",
     "text": [
      "FINISHED IMPORTING DATA\n"
     ]
    }
   ],
   "source": [
    "def importdata():\n",
    "    data = pd.read_csv('Final Datasets/data_stocks.csv')\n",
    "importdata()\n",
    "print(\"FINISHED IMPORTING DATA\")"
   ]
  },
  {
   "cell_type": "markdown",
   "metadata": {},
   "source": [
    "- created a folder with my final datasets, and the dataset I want exists in there"
   ]
  },
  {
   "cell_type": "markdown",
   "metadata": {},
   "source": [
    "# 3rd Step: Preparing the Dataset"
   ]
  },
  {
   "cell_type": "code",
   "execution_count": 2,
   "metadata": {},
   "outputs": [
    {
     "name": "stdout",
     "output_type": "stream",
     "text": [
      "FINISHED PREPARING THE DATA\n"
     ]
    }
   ],
   "source": [
    "def preparedata():\n",
    "    # Drop date variable\n",
    "    data = data.drop(['DATE'], 1)\n",
    "    n = data.shape[0]\n",
    "    # Dimensions of dataset\n",
    "    p = data.shape[1]\n",
    "    # Make data a np.array\n",
    "    data = data.values\n",
    "preparedata():\n",
    "print(\"FINISHED PREPARING THE DATA\")"
   ]
  },
  {
   "cell_type": "markdown",
   "metadata": {},
   "source": [
    "The data was already cleaned and prepared, meaning missing stock and index prices were LOCF’ed (last observation carried forward), so that the file did not contain any missing values. I created a numpy array for later, so the data can be manipulated and trained.\n",
    "\n"
   ]
  },
  {
   "cell_type": "markdown",
   "metadata": {},
   "source": [
    "# 4th Step: Organizing Training and Test Data"
   ]
  },
  {
   "cell_type": "code",
   "execution_count": 1,
   "metadata": {},
   "outputs": [
    {
     "name": "stdout",
     "output_type": "stream",
     "text": [
      "FINISHED TRAINING THE DATA\n"
     ]
    }
   ],
   "source": [
    "# Training and test data\n",
    "def trainingdata():\n",
    "    train_start = 0\n",
    "    train_end = int(np.floor(0.8*n))\n",
    "    test_start = train_end + 1\n",
    "    test_end = n\n",
    "    data_train = data[np.arange(train_start, train_end), :]\n",
    "    data_test = data[np.arange(test_start, test_end), :]\n",
    "trainingdata()\n",
    "print(\"FINISHED SPLITTING THE DATA\")\n"
   ]
  },
  {
   "cell_type": "markdown",
   "metadata": {},
   "source": [
    "The dataset was split into training and test data. The training data contained 80% of the total dataset. The data was not shuffled but sequentially sliced. The training data ranges from April to approx. end of July 2017, the test data ends end of August 2017. There are a lot of different approaches to time series cross validation, such as rolling forecasts with and without refitting or more elaborate concepts such as time series bootstrap resampling. The latter involves repeated samples from the remainder of the seasonal decomposition of the time series in order to simulate samples that follow the same seasonal pattern as the original time series but are not exact copies of its values."
   ]
  },
  {
   "cell_type": "markdown",
   "metadata": {},
   "source": [
    "# 5th Step: Scaling the Data"
   ]
  },
  {
   "cell_type": "code",
   "execution_count": 2,
   "metadata": {},
   "outputs": [
    {
     "name": "stdout",
     "output_type": "stream",
     "text": [
      "FINISHED DATA SCALING\n"
     ]
    }
   ],
   "source": [
    "def scalingthedata():\n",
    "    # Scale data\n",
    "    scaler = MinMaxScaler(feature_range=(-1, 1))\n",
    "    scaler.fit(data_train)\n",
    "    data_train = scaler.transform(data_train)\n",
    "    data_test = scaler.transform(data_test)\n",
    "    # Build X and y\n",
    "    X_train = data_train[:, 1:]\n",
    "    y_train = data_train[:, 0]\n",
    "    X_test = data_test[:, 1:]\n",
    "    y_test = data_test[:, 0]\n",
    "    # Number of stocks in training data\n",
    "    n_stocks = X_train.shape[1]\n",
    "scalingthedata()\n",
    "print(\"FINISHED DATA SCALING\")"
   ]
  },
  {
   "cell_type": "markdown",
   "metadata": {},
   "source": [
    "Most neural network architectures benefit from scaling the inputs (sometimes also the output). Why? Because most common activation functions of the network’s neurons such as tanh or sigmoid are defined on the [-1, 1] or [0, 1] interval respectively. Nowadays, rectified linear unit (ReLU) activations are commonly used activations which are unbounded on the axis of possible activation values. However, we will scale both the inputs and targets anyway. Scaling can be easily accomplished in Python using sklearn’s MinMaxScaler.Caution must be undertaken regarding what part of the data is scaled and when. A common mistake is to scale the whole dataset before training and test split are being applied. Why is this a mistake? Because scaling invokes the calculation of statistics e.g. the min/max of a variable. When performing time series forecasting in real life, you do not have information from future observations at the time of forecasting. Therefore, calculation of scaling statistics has to be conducted on training data and must then be applied to the test data. Otherwise, you use future information at the time of forecasting which commonly biases forecasting metrics in a positive direction."
   ]
  },
  {
   "cell_type": "markdown",
   "metadata": {},
   "source": [
    "# 6th Step: Modeling "
   ]
  },
  {
   "cell_type": "code",
   "execution_count": 3,
   "metadata": {},
   "outputs": [
    {
     "name": "stdout",
     "output_type": "stream",
     "text": [
      "FINISHED MODELING THE DATA\n"
     ]
    }
   ],
   "source": [
    "def modelingdata():\n",
    "    # Neurons\n",
    "    n_neurons_1 = 1024\n",
    "    n_neurons_2 = 512\n",
    "    n_neurons_3 = 256\n",
    "    n_neurons_4 = 128\n",
    "    # Session\n",
    "    net = tf.InteractiveSession()\n",
    "    #Layer 1: Variables for hidden weights and biases\n",
    "    W_hidden_1 = tf.Variable(weight_initializer([n_stocks, n_neurons_1]))\n",
    "    bias_hidden_1 = tf.Variable(bias_initializer([n_neurons_1]))\n",
    "    # Layer 2: Variables for hidden weights and biases\n",
    "    W_hidden_2 = tf.Variable(weight_initializer([n_neurons_1, n_neurons_2]))\n",
    "    bias_hidden_2 = tf.Variable(bias_initializer([n_neurons_2]))\n",
    "    # Layer 3: Variables for hidden weights and biases\n",
    "    W_hidden_3 = tf.Variable(weight_initializer([n_neurons_2, n_neurons_3]))\n",
    "    bias_hidden_3 = tf.Variable(bias_initializer([n_neurons_3]))\n",
    "    # Layer 4: Variables for hidden weights and biases\n",
    "    W_hidden_4 = tf.Variable(weight_initializer([n_neurons_3, n_neurons_4]))\n",
    "    bias_hidden_4 = tf.Variable(bias_initializer([n_neurons_4]))\n",
    "    # Output layer: Variables for output weights and biases\n",
    "    W_out = tf.Variable(weight_initializer([n_neurons_4, n_target]))\n",
    "    bias_out = tf.Variable(bias_initializer([n_target]))\n",
    "modelingdata()\n",
    "print(\"FINISHED MODELING THE DATA\")"
   ]
  },
  {
   "cell_type": "markdown",
   "metadata": {},
   "source": [
    "Besides placeholders, variables are another cornerstone of the TensorFlow universe. While placeholders are used to store input and target data in the graph, variables are used as flexible containers within the graph that are allowed to change during graph execution. Weights and biases are represented as variables in order to adapt during training. Variables need to be initialized, prior to model training. We will get into that a litte later in more detail.\n",
    "\n",
    "The model consists of four hidden layers. The first layer contains 1024 neurons, slightly more than double the size of the inputs. Subsequent hidden layers are always half the size of the previous layer, which means 512, 256 and finally 128 neurons. A reduction of the number of neurons for each subsequent layer compresses the information the network identifies in the previous layers. Of course, other network architectures and neuron configurations are possible but are out of scope for this introduction level article.\n",
    "\n",
    "It is important to understand the required variable dimensions between input, hidden and output layers. As a rule of thumb in multilayer perceptrons (MLPs, the type of networks used here), the second dimension of the previous layer is the first dimension in the current layer for weight matrices. This might sound complicated but is essentially just each layer passing its output as input to the next layer. The biases dimension equals the second dimension of the current layer’s weight matrix, which corresponds the number of neurons in this layer."
   ]
  },
  {
   "cell_type": "markdown",
   "metadata": {},
   "source": [
    "# 7th Step: Placeholders"
   ]
  },
  {
   "cell_type": "code",
   "execution_count": null,
   "metadata": {
    "collapsed": true
   },
   "outputs": [],
   "source": [
    "def placeholders():\n",
    "    # Placeholder\n",
    "    X = tf.placeholder(dtype=tf.float32, shape=[None, n_stocks])\n",
    "    Y = tf.placeholder(dtype=tf.float32, shape=[None])\n",
    "placeholders()"
   ]
  },
  {
   "cell_type": "markdown",
   "metadata": {},
   "source": [
    "As mentioned before, it all starts with placeholders. We need two placeholders in order to fit our model: X contains the network's inputs (the stock prices of all S&P 500 constituents at time T = t) and Y the network's outputs (the index value of the S&P 500 at time T = t + 1).\n",
    "\n",
    "The shape of the placeholders correspond to [None, n_stocks] with [None] meaning that the inputs are a 2-dimensional matrix and the outputs are a 1-dimensional vector. It is crucial to understand which input and output dimensions the neural net needs in order to design it properly.\n",
    "\n",
    "The None argument indicates that at this point we do not yet know the number of observations that flow through the neural net graph in each batch, so we keep if flexible. We will later define the variable batch_size that controls the number of observations per training batch."
   ]
  },
  {
   "cell_type": "markdown",
   "metadata": {},
   "source": [
    "# 8th Step: Designing Network Architecture"
   ]
  },
  {
   "cell_type": "code",
   "execution_count": null,
   "metadata": {
    "collapsed": true
   },
   "outputs": [],
   "source": [
    "# Hidden layer\n",
    "hidden_1 = tf.nn.relu(tf.add(tf.matmul(X, W_hidden_1), bias_hidden_1))\n",
    "hidden_2 = tf.nn.relu(tf.add(tf.matmul(hidden_1, W_hidden_2), bias_hidden_2))\n",
    "hidden_3 = tf.nn.relu(tf.add(tf.matmul(hidden_2, W_hidden_3), bias_hidden_3))\n",
    "hidden_4 = tf.nn.relu(tf.add(tf.matmul(hidden_3, W_hidden_4), bias_hidden_4))\n",
    "\n",
    "# Output layer (must be transposed)\n",
    "out = tf.transpose(tf.add(tf.matmul(hidden_4, W_out), bias_out))"
   ]
  },
  {
   "cell_type": "markdown",
   "metadata": {},
   "source": [
    "After definition of the required weight and bias variables, the network topology, the architecture of the network, needs to be specified. Hereby, placeholders (data) and variables (weighs and biases) need to be combined into a system of sequential matrix multiplications.\n",
    "\n",
    "Furthermore, the hidden layers of the network are transformed by activation functions. Activation functions are important elements of the network architecture since they introduce non-linearity to the system. There are dozens of possible activation functions out there, one of the most common is the rectified linear unit (ReLU) which will also be used in this model.\n",
    "\n"
   ]
  },
  {
   "cell_type": "markdown",
   "metadata": {},
   "source": [
    "# 9th Step: Computing Deviation"
   ]
  },
  {
   "cell_type": "code",
   "execution_count": null,
   "metadata": {
    "collapsed": true
   },
   "outputs": [],
   "source": [
    "mse = tf.reduce_mean(tf.squared_difference(out, Y))"
   ]
  },
  {
   "cell_type": "markdown",
   "metadata": {},
   "source": [
    "The cost function of the network is used to generate a measure of deviation between the network’s predictions and the actual observed training targets. For regression problems, the mean squared error (MSE) function is commonly used. MSE computes the average squared deviation between predictions and targets. Basically, any differentiable function can be implemented in order to compute a deviation measure between predictions and targets. The closer to 0 the MSE is the closer the prediction is to the actual target.\n",
    "\n"
   ]
  },
  {
   "cell_type": "markdown",
   "metadata": {},
   "source": [
    "# 10th Step: Setting up Optimizers"
   ]
  },
  {
   "cell_type": "code",
   "execution_count": null,
   "metadata": {
    "collapsed": true
   },
   "outputs": [],
   "source": [
    "opt = tf.train.AdamOptimizer().minimize(mse)"
   ]
  },
  {
   "cell_type": "markdown",
   "metadata": {},
   "source": [
    "The optimizer takes care of the necessary computations that are used to adapt the network’s weight and bias variables during training. Those computations invoke the calculation of so called gradients, that indicate the direction in which the weights and biases have to be changed during training in order to minimize the network’s cost function. The development of stable and speedy optimizers is a major field in neural network an deep learning research.\n",
    "\n",
    "Here the Adam Optimizer is used, which is one of the current default optimizers in deep learning development. Adam stands for “Adaptive Moment Estimation” and can be considered as a combination between two other popular optimizers AdaGrad and RMSProp."
   ]
  },
  {
   "cell_type": "markdown",
   "metadata": {},
   "source": [
    "# 11th Step: Setting up Initializers"
   ]
  },
  {
   "cell_type": "code",
   "execution_count": null,
   "metadata": {
    "collapsed": true
   },
   "outputs": [],
   "source": [
    "net.run(tf.global_variables_initializer())"
   ]
  },
  {
   "cell_type": "markdown",
   "metadata": {},
   "source": [
    "Initializers are used to initialize the network’s variables before training. Since neural networks are trained using numerical optimization techniques, the starting point of the optimization problem is one the key factors to find good solutions to the underlying problem. There are different initializers available in TensorFlow, each with different initialization approaches. \n"
   ]
  },
  {
   "cell_type": "markdown",
   "metadata": {},
   "source": [
    "# 12th Step: Training and Testing"
   ]
  },
  {
   "cell_type": "code",
   "execution_count": 1,
   "metadata": {},
   "outputs": [
    {
     "name": "stderr",
     "output_type": "stream",
     "text": [
      "/Users/doranwu/anaconda/lib/python3.6/importlib/_bootstrap.py:205: RuntimeWarning: compiletime version 3.5 of module 'tensorflow.python.framework.fast_tensor_util' does not match runtime version 3.6\n",
      "  return f(*args, **kwds)\n"
     ]
    },
    {
     "data": {
      "image/png": "[encoded data removed]",
      "text/plain": [
       "<matplotlib.figure.Figure at 0x124dfb9e8>"
      ]
     },
     "metadata": {},
     "output_type": "display_data"
    },
    {
     "name": "stdout",
     "output_type": "stream",
     "text": [
      "MSE Test:  2.23984\n",
      "[2.2398365]\n",
      "MSE Test:  0.061133\n",
      "[2.2398365, 0.061133042]\n",
      "MSE Test:  0.0545168\n",
      "[2.2398365, 0.061133042, 0.054516785]\n",
      "NUMBER OF GROUPS TESTED 3\n",
      "MSE Test:  0.0415222\n",
      "[2.2398365, 0.061133042, 0.054516785, 0.041522183]\n",
      "MSE Test:  0.0304434\n",
      "[2.2398365, 0.061133042, 0.054516785, 0.041522183, 0.030443422]\n",
      "MSE Test:  0.0355836\n",
      "[2.2398365, 0.061133042, 0.054516785, 0.041522183, 0.030443422, 0.035583574]\n",
      "NUMBER OF GROUPS TESTED 6\n",
      "MSE Test:  0.0344852\n",
      "[2.2398365, 0.061133042, 0.054516785, 0.041522183, 0.030443422, 0.035583574, 0.034485247]\n",
      "MSE Test:  0.0291435\n",
      "[2.2398365, 0.061133042, 0.054516785, 0.041522183, 0.030443422, 0.035583574, 0.034485247, 0.029143497]\n",
      "MSE Test:  0.0221642\n",
      "[2.2398365, 0.061133042, 0.054516785, 0.041522183, 0.030443422, 0.035583574, 0.034485247, 0.029143497, 0.022164173]\n",
      "NUMBER OF GROUPS TESTED 9\n",
      "MSE Test:  0.0231348\n",
      "[2.2398365, 0.061133042, 0.054516785, 0.041522183, 0.030443422, 0.035583574, 0.034485247, 0.029143497, 0.022164173, 0.02313482]\n",
      "MSE Test:  0.0277389\n",
      "[2.2398365, 0.061133042, 0.054516785, 0.041522183, 0.030443422, 0.035583574, 0.034485247, 0.029143497, 0.022164173, 0.02313482, 0.027738905]\n",
      "MSE Test:  0.0254035\n",
      "[2.2398365, 0.061133042, 0.054516785, 0.041522183, 0.030443422, 0.035583574, 0.034485247, 0.029143497, 0.022164173, 0.02313482, 0.027738905, 0.025403537]\n",
      "NUMBER OF GROUPS TESTED 12\n",
      "MSE Test:  0.0212838\n",
      "[2.2398365, 0.061133042, 0.054516785, 0.041522183, 0.030443422, 0.035583574, 0.034485247, 0.029143497, 0.022164173, 0.02313482, 0.027738905, 0.025403537, 0.021283805]\n",
      "MSE Test:  0.0196368\n",
      "[2.2398365, 0.061133042, 0.054516785, 0.041522183, 0.030443422, 0.035583574, 0.034485247, 0.029143497, 0.022164173, 0.02313482, 0.027738905, 0.025403537, 0.021283805, 0.01963683]\n",
      "MSE Test:  0.0192048\n",
      "[2.2398365, 0.061133042, 0.054516785, 0.041522183, 0.030443422, 0.035583574, 0.034485247, 0.029143497, 0.022164173, 0.02313482, 0.027738905, 0.025403537, 0.021283805, 0.01963683, 0.019204786]\n",
      "NUMBER OF GROUPS TESTED 15\n",
      "MSE Test:  0.0203001\n",
      "[2.2398365, 0.061133042, 0.054516785, 0.041522183, 0.030443422, 0.035583574, 0.034485247, 0.029143497, 0.022164173, 0.02313482, 0.027738905, 0.025403537, 0.021283805, 0.01963683, 0.019204786, 0.020300088]\n",
      "MSE Test:  0.0227086\n",
      "[2.2398365, 0.061133042, 0.054516785, 0.041522183, 0.030443422, 0.035583574, 0.034485247, 0.029143497, 0.022164173, 0.02313482, 0.027738905, 0.025403537, 0.021283805, 0.01963683, 0.019204786, 0.020300088, 0.022708608]\n",
      "MSE Test:  0.0156329\n",
      "[2.2398365, 0.061133042, 0.054516785, 0.041522183, 0.030443422, 0.035583574, 0.034485247, 0.029143497, 0.022164173, 0.02313482, 0.027738905, 0.025403537, 0.021283805, 0.01963683, 0.019204786, 0.020300088, 0.022708608, 0.015632873]\n",
      "NUMBER OF GROUPS TESTED 18\n",
      "MSE Test:  0.0271216\n",
      "[2.2398365, 0.061133042, 0.054516785, 0.041522183, 0.030443422, 0.035583574, 0.034485247, 0.029143497, 0.022164173, 0.02313482, 0.027738905, 0.025403537, 0.021283805, 0.01963683, 0.019204786, 0.020300088, 0.022708608, 0.015632873, 0.0271216]\n",
      "MSE Test:  0.0194207\n",
      "[2.2398365, 0.061133042, 0.054516785, 0.041522183, 0.030443422, 0.035583574, 0.034485247, 0.029143497, 0.022164173, 0.02313482, 0.027738905, 0.025403537, 0.021283805, 0.01963683, 0.019204786, 0.020300088, 0.022708608, 0.015632873, 0.0271216, 0.019420661]\n",
      "MSE Test:  0.0208477\n",
      "[2.2398365, 0.061133042, 0.054516785, 0.041522183, 0.030443422, 0.035583574, 0.034485247, 0.029143497, 0.022164173, 0.02313482, 0.027738905, 0.025403537, 0.021283805, 0.01963683, 0.019204786, 0.020300088, 0.022708608, 0.015632873, 0.0271216, 0.019420661, 0.020847676]\n",
      "NUMBER OF GROUPS TESTED 21\n",
      "MSE Test:  0.0153434\n",
      "[2.2398365, 0.061133042, 0.054516785, 0.041522183, 0.030443422, 0.035583574, 0.034485247, 0.029143497, 0.022164173, 0.02313482, 0.027738905, 0.025403537, 0.021283805, 0.01963683, 0.019204786, 0.020300088, 0.022708608, 0.015632873, 0.0271216, 0.019420661, 0.020847676, 0.015343446]\n",
      "MSE Test:  0.0159097\n",
      "[2.2398365, 0.061133042, 0.054516785, 0.041522183, 0.030443422, 0.035583574, 0.034485247, 0.029143497, 0.022164173, 0.02313482, 0.027738905, 0.025403537, 0.021283805, 0.01963683, 0.019204786, 0.020300088, 0.022708608, 0.015632873, 0.0271216, 0.019420661, 0.020847676, 0.015343446, 0.015909715]\n",
      "MSE Test:  0.012705\n",
      "[2.2398365, 0.061133042, 0.054516785, 0.041522183, 0.030443422, 0.035583574, 0.034485247, 0.029143497, 0.022164173, 0.02313482, 0.027738905, 0.025403537, 0.021283805, 0.01963683, 0.019204786, 0.020300088, 0.022708608, 0.015632873, 0.0271216, 0.019420661, 0.020847676, 0.015343446, 0.015909715, 0.012704976]\n",
      "NUMBER OF GROUPS TESTED 24\n",
      "MSE Test:  0.0138579\n",
      "[2.2398365, 0.061133042, 0.054516785, 0.041522183, 0.030443422, 0.035583574, 0.034485247, 0.029143497, 0.022164173, 0.02313482, 0.027738905, 0.025403537, 0.021283805, 0.01963683, 0.019204786, 0.020300088, 0.022708608, 0.015632873, 0.0271216, 0.019420661, 0.020847676, 0.015343446, 0.015909715, 0.012704976, 0.013857875]\n",
      "MSE Test:  0.0134959\n",
      "[2.2398365, 0.061133042, 0.054516785, 0.041522183, 0.030443422, 0.035583574, 0.034485247, 0.029143497, 0.022164173, 0.02313482, 0.027738905, 0.025403537, 0.021283805, 0.01963683, 0.019204786, 0.020300088, 0.022708608, 0.015632873, 0.0271216, 0.019420661, 0.020847676, 0.015343446, 0.015909715, 0.012704976, 0.013857875, 0.013495857]\n",
      "MSE Test:  0.013249\n",
      "[2.2398365, 0.061133042, 0.054516785, 0.041522183, 0.030443422, 0.035583574, 0.034485247, 0.029143497, 0.022164173, 0.02313482, 0.027738905, 0.025403537, 0.021283805, 0.01963683, 0.019204786, 0.020300088, 0.022708608, 0.015632873, 0.0271216, 0.019420661, 0.020847676, 0.015343446, 0.015909715, 0.012704976, 0.013857875, 0.013495857, 0.013249011]\n",
      "NUMBER OF GROUPS TESTED 27\n",
      "MSE Test:  0.0107241\n",
      "[2.2398365, 0.061133042, 0.054516785, 0.041522183, 0.030443422, 0.035583574, 0.034485247, 0.029143497, 0.022164173, 0.02313482, 0.027738905, 0.025403537, 0.021283805, 0.01963683, 0.019204786, 0.020300088, 0.022708608, 0.015632873, 0.0271216, 0.019420661, 0.020847676, 0.015343446, 0.015909715, 0.012704976, 0.013857875, 0.013495857, 0.013249011, 0.010724087]\n",
      "MSE Test:  0.0151332\n",
      "[2.2398365, 0.061133042, 0.054516785, 0.041522183, 0.030443422, 0.035583574, 0.034485247, 0.029143497, 0.022164173, 0.02313482, 0.027738905, 0.025403537, 0.021283805, 0.01963683, 0.019204786, 0.020300088, 0.022708608, 0.015632873, 0.0271216, 0.019420661, 0.020847676, 0.015343446, 0.015909715, 0.012704976, 0.013857875, 0.013495857, 0.013249011, 0.010724087, 0.015133152]\n",
      "MSE Test:  0.0138202\n",
      "[2.2398365, 0.061133042, 0.054516785, 0.041522183, 0.030443422, 0.035583574, 0.034485247, 0.029143497, 0.022164173, 0.02313482, 0.027738905, 0.025403537, 0.021283805, 0.01963683, 0.019204786, 0.020300088, 0.022708608, 0.015632873, 0.0271216, 0.019420661, 0.020847676, 0.015343446, 0.015909715, 0.012704976, 0.013857875, 0.013495857, 0.013249011, 0.010724087, 0.015133152, 0.01382024]\n",
      "NUMBER OF GROUPS TESTED 30\n",
      "FINISHED TESTING\n",
      "TOTAL NUMBER OF GROUPS TESTED 30\n",
      "FINAL MSE TEST: 0.0138202\n"
     ]
    }
   ],
   "source": [
    "# Run\n",
    "epochs = 10\n",
    "#actually only 9 epochs\n",
    "mselist = []\n",
    "for e in range(epochs):\n",
    "\n",
    "    # Shuffle training data\n",
    "    shuffle_indices = np.random.permutation(np.arange(len(y_train)))\n",
    "    X_train = X_train[shuffle_indices]\n",
    "    y_train = y_train[shuffle_indices]\n",
    "\n",
    "    # Minibatch training\n",
    "    for i in range(0, len(y_train) // batch_size):\n",
    "        start = i * batch_size\n",
    "        batch_x = X_train[start:start + batch_size]\n",
    "        batch_y = y_train[start:start + batch_size]\n",
    "        # Run optimizer with batch\n",
    "        net.run(opt, feed_dict={X: batch_x, Y: batch_y})\n",
    "        # Show progress\n",
    "        if np.mod(i, 50) == 0:\n",
    "            # MSE train and test\n",
    "            mse_train.append(net.run(mse, feed_dict={X: X_train, Y: y_train}))\n",
    "            mse_test.append(net.run(mse, feed_dict={X: X_test, Y: y_test}))\n",
    "            msenums = mse_test[-1]\n",
    "            print('MSE Test: ', msenums)\n",
    "            mselist.append(msenums)\n",
    "            # Prediction\n",
    "            pred = net.run(out, feed_dict={X: X_test})\n",
    "            line2.set_ydata(pred)\n",
    "            print(mselist)\n",
    "    print('NUMBER OF GROUPS TESTED:',len(mselist))\n",
    "print(\"FINISHED TESTING\")\n",
    "print('TOTAL NUMBER OF GROUPS TESTED:',len(mselist))\n",
    "print('FINAL MSE TEST:',mselist[-1])"
   ]
  },
  {
   "cell_type": "markdown",
   "metadata": {},
   "source": [
    "After having defined the placeholders, variables, initializers, cost functions and optimizers of the network, the model needs to be trained. Usually, this is done by minibatch training. During minibatch training random data samples of n = batch_size are drawn from the training data and fed into the network. The training dataset gets divided into n / batch_size batches that are sequentially fed into the network. At this point the placeholders X and Y come into play. They store the input and target data and present them to the network as inputs and targets.\n",
    "\n",
    "A sampled data batch of X flows through the network until it reaches the output layer. There, TensorFlow compares the models predictions against the actual observed targets Y in the current batch. Afterwards, TensorFlow conducts an optimization step and updates the networks parameters, corresponding to the selected learning scheme. After having updated the weights and biases, the next batch is sampled and the process repeats itself. The procedure continues until all batches have been presented to the network. One full sweep over all batches is called an epoch.\n",
    "\n",
    "The training of the network stops once the maximum number of epochs is reached or another stopping criterion defined by the user applies.\n",
    "\n",
    "During the training, we evaluate the networks predictions on the test set — the data which is not learned, but set aside — for every 5th batch and visualize it. \n",
    "\n",
    "In total I showed 30 groups with the computer telling me the MSE every 30 batches."
   ]
  },
  {
   "cell_type": "markdown",
   "metadata": {},
   "source": [
    "# An Accumulated Version"
   ]
  },
  {
   "cell_type": "code",
   "execution_count": 1,
   "metadata": {},
   "outputs": [
    {
     "name": "stderr",
     "output_type": "stream",
     "text": [
      "/Users/doranwu/anaconda/lib/python3.6/importlib/_bootstrap.py:205: RuntimeWarning: compiletime version 3.5 of module 'tensorflow.python.framework.fast_tensor_util' does not match runtime version 3.6\n",
      "  return f(*args, **kwds)\n"
     ]
    },
    {
     "name": "stdout",
     "output_type": "stream",
     "text": [
      "FINISHED IMPORTING PACKAGES\n",
      "FINISHED IMPORTING DATA\n",
      "FINISHED PREPARING THE DATA\n",
      "FINISHED SPLITTING THE DATA\n",
      "FINISHED DATA SCALING\n",
      "FINISHED MODELING THE DATA\n",
      "FINISHED SETTING PLACEHOLDERS\n",
      "FINISHED SETTING INITIALIZERS\n",
      "FINISHED DESIGNING NETWORK ARCHITECTURE\n",
      "FINISHED COMPUTING DEVIATIONS\n",
      "FINISHED SETTING OPTIMIZERS\n"
     ]
    },
    {
     "data": {
      "image/png": "[encoded data removed]",
      "text/plain": [
       "<matplotlib.figure.Figure at 0x123ff7f28>"
      ]
     },
     "metadata": {},
     "output_type": "display_data"
    },
    {
     "name": "stdout",
     "output_type": "stream",
     "text": [
      "FINISHED PRINTING OUT PRINCIPAL GRAPH\n",
      "MSE Test 1 : 0.652651\n",
      "MSE Test 2 : 0.0415704\n",
      "MSE Test 3 : 0.0241025\n",
      "NUMBER OF GROUPS TESTED: 3\n",
      "MSE Test 4 : 0.0225646\n",
      "MSE Test 5 : 0.0217422\n",
      "MSE Test 6 : 0.0185042\n",
      "NUMBER OF GROUPS TESTED: 6\n",
      "MSE Test 7 : 0.0199071\n",
      "MSE Test 8 : 0.0167635\n",
      "MSE Test 9 : 0.0154653\n",
      "NUMBER OF GROUPS TESTED: 9\n",
      "MSE Test 10 : 0.0214652\n",
      "MSE Test 11 : 0.0148529\n",
      "MSE Test 12 : 0.00883707\n",
      "NUMBER OF GROUPS TESTED: 12\n",
      "MSE Test 13 : 0.00782946\n",
      "MSE Test 14 : 0.00744258\n",
      "MSE Test 15 : 0.00733945\n",
      "NUMBER OF GROUPS TESTED: 15\n",
      "MSE Test 16 : 0.00710402\n",
      "MSE Test 17 : 0.00754559\n",
      "MSE Test 18 : 0.00619916\n",
      "NUMBER OF GROUPS TESTED: 18\n",
      "MSE Test 19 : 0.00605071\n",
      "MSE Test 20 : 0.00656961\n",
      "MSE Test 21 : 0.00626015\n",
      "NUMBER OF GROUPS TESTED: 21\n",
      "MSE Test 22 : 0.00502489\n",
      "MSE Test 23 : 0.00566732\n",
      "MSE Test 24 : 0.00470887\n",
      "NUMBER OF GROUPS TESTED: 24\n",
      "MSE Test 25 : 0.00519626\n",
      "MSE Test 26 : 0.00444803\n",
      "MSE Test 27 : 0.00566302\n",
      "NUMBER OF GROUPS TESTED: 27\n",
      "MSE Test 28 : 0.00592445\n",
      "MSE Test 29 : 0.00429665\n",
      "MSE Test 30 : 0.00296333\n",
      "NUMBER OF GROUPS TESTED: 30\n",
      "FINISHED TESTING\n",
      "TOTAL NUMBER OF GROUPS TESTED: 30\n",
      "FINAL MSE TEST: 0.00296333\n"
     ]
    }
   ],
   "source": [
    "#I would like to thank Tracey for the indicators, giving me that idea\n",
    "# Import\n",
    "import tensorflow as tf\n",
    "import numpy as np\n",
    "import pandas as pd\n",
    "from sklearn.preprocessing import MinMaxScaler\n",
    "import matplotlib.pyplot as plt\n",
    "print(\"FINISHED IMPORTING PACKAGES\")\n",
    "# Import data\n",
    "data = pd.read_csv('Final Datasets/data_stocks.csv')\n",
    "print(\"FINISHED IMPORTING DATA\")\n",
    "# Drop date variable\n",
    "data = data.drop(['DATE'], 1)\n",
    "\n",
    "# Dimensions of dataset\n",
    "n = data.shape[0]\n",
    "p = data.shape[1]\n",
    "\n",
    "# Make data a np.array\n",
    "data = data.values\n",
    "print(\"FINISHED PREPARING THE DATA\")\n",
    "# Training and test data\n",
    "train_start = 0\n",
    "train_end = int(np.floor(0.8*n))\n",
    "test_start = train_end + 1\n",
    "test_end = n\n",
    "data_train = data[np.arange(train_start, train_end), :]\n",
    "data_test = data[np.arange(test_start, test_end), :]\n",
    "print(\"FINISHED SPLITTING THE DATA\")\n",
    "# Scale data\n",
    "scaler = MinMaxScaler(feature_range=(-1, 1))\n",
    "scaler.fit(data_train)\n",
    "data_train = scaler.transform(data_train)\n",
    "data_test = scaler.transform(data_test)\n",
    "\n",
    "# Build X and y\n",
    "X_train = data_train[:, 1:]\n",
    "y_train = data_train[:, 0]\n",
    "X_test = data_test[:, 1:]\n",
    "y_test = data_test[:, 0]\n",
    "\n",
    "# Number of stocks in training data\n",
    "n_stocks = X_train.shape[1]\n",
    "print(\"FINISHED DATA SCALING\")\n",
    "# Neurons\n",
    "n_neurons_1 = 1024\n",
    "n_neurons_2 = 512\n",
    "n_neurons_3 = 256\n",
    "n_neurons_4 = 128\n",
    "\n",
    "# Session\n",
    "net = tf.InteractiveSession()\n",
    "print(\"FINISHED MODELING THE DATA\")\n",
    "# Placeholder\n",
    "X = tf.placeholder(dtype=tf.float32, shape=[None, n_stocks])\n",
    "Y = tf.placeholder(dtype=tf.float32, shape=[None])\n",
    "print(\"FINISHED SETTING PLACEHOLDERS\")\n",
    "# Initializers\n",
    "sigma = 1\n",
    "weight_initializer = tf.variance_scaling_initializer(mode=\"fan_avg\", distribution=\"uniform\", scale=sigma)\n",
    "bias_initializer = tf.zeros_initializer()\n",
    "print(\"FINISHED SETTING INITIALIZERS\")\n",
    "# Hidden weights\n",
    "W_hidden_1 = tf.Variable(weight_initializer([n_stocks, n_neurons_1]))\n",
    "bias_hidden_1 = tf.Variable(bias_initializer([n_neurons_1]))\n",
    "W_hidden_2 = tf.Variable(weight_initializer([n_neurons_1, n_neurons_2]))\n",
    "bias_hidden_2 = tf.Variable(bias_initializer([n_neurons_2]))\n",
    "W_hidden_3 = tf.Variable(weight_initializer([n_neurons_2, n_neurons_3]))\n",
    "bias_hidden_3 = tf.Variable(bias_initializer([n_neurons_3]))\n",
    "W_hidden_4 = tf.Variable(weight_initializer([n_neurons_3, n_neurons_4]))\n",
    "bias_hidden_4 = tf.Variable(bias_initializer([n_neurons_4]))\n",
    "\n",
    "# Output weights\n",
    "W_out = tf.Variable(weight_initializer([n_neurons_4, 1]))\n",
    "bias_out = tf.Variable(bias_initializer([1]))\n",
    "\n",
    "# Hidden layer\n",
    "hidden_1 = tf.nn.relu(tf.add(tf.matmul(X, W_hidden_1), bias_hidden_1))\n",
    "hidden_2 = tf.nn.relu(tf.add(tf.matmul(hidden_1, W_hidden_2), bias_hidden_2))\n",
    "hidden_3 = tf.nn.relu(tf.add(tf.matmul(hidden_2, W_hidden_3), bias_hidden_3))\n",
    "hidden_4 = tf.nn.relu(tf.add(tf.matmul(hidden_3, W_hidden_4), bias_hidden_4))\n",
    "\n",
    "# Output layer (transpose!)\n",
    "out = tf.transpose(tf.add(tf.matmul(hidden_4, W_out), bias_out))\n",
    "print(\"FINISHED DESIGNING NETWORK ARCHITECTURE\")\n",
    "# Cost function\n",
    "mse = tf.reduce_mean(tf.squared_difference(out, Y))\n",
    "print(\"FINISHED COMPUTING DEVIATIONS\")\n",
    "# Optimizer\n",
    "opt = tf.train.AdamOptimizer().minimize(mse)\n",
    "print(\"FINISHED SETTING OPTIMIZERS\")\n",
    "# Init\n",
    "net.run(tf.global_variables_initializer())\n",
    "\n",
    "# Setup plot\n",
    "plt.ion()\n",
    "fig = plt.figure()\n",
    "ax1 = fig.add_subplot(111)\n",
    "line1, = ax1.plot(y_test)\n",
    "line2, = ax1.plot(y_test * 0.5)\n",
    "plt.show()\n",
    "print(\"FINISHED PRINTING OUT PRINCIPAL GRAPH\")\n",
    "# Fit neural net\n",
    "#added some of these lists\n",
    "batch_size = 256\n",
    "mse_train = []\n",
    "mse_test = []\n",
    "numslist = 1\n",
    "# Run\n",
    "epochs = 10\n",
    "mselist = []\n",
    "for e in range(epochs):\n",
    "\n",
    "    # Shuffle training data\n",
    "    shuffle_indices = np.random.permutation(np.arange(len(y_train)))\n",
    "    X_train = X_train[shuffle_indices]\n",
    "    y_train = y_train[shuffle_indices]\n",
    "\n",
    "    # Minibatch training\n",
    "    for i in range(0, len(y_train) // batch_size):\n",
    "        start = i * batch_size\n",
    "        batch_x = X_train[start:start + batch_size]\n",
    "        batch_y = y_train[start:start + batch_size]\n",
    "        # Run optimizer with batch\n",
    "        net.run(opt, feed_dict={X: batch_x, Y: batch_y})\n",
    "        # Show progress\n",
    "        if np.mod(i, 50) == 0:\n",
    "            # MSE train and test\n",
    "            mse_train.append(net.run(mse, feed_dict={X: X_train, Y: y_train}))\n",
    "            mse_test.append(net.run(mse, feed_dict={X: X_test, Y: y_test}))\n",
    "            msenums = mse_test[-1]\n",
    "            print('MSE Test',numslist,':', msenums)\n",
    "            mselist.append(msenums)\n",
    "            # Prediction\n",
    "            pred = net.run(out, feed_dict={X: X_test})\n",
    "            line2.set_ydata(pred)\n",
    "            numslist+=1\n",
    "#all my code\n",
    "    print('NUMBER OF GROUPS TESTED:',len(mselist))\n",
    "print(\"FINISHED TESTING\")\n",
    "print('TOTAL NUMBER OF GROUPS TESTED:',len(mselist))\n",
    "print('FINAL MSE TEST:',mselist[-1])"
   ]
  },
  {
   "cell_type": "markdown",
   "metadata": {},
   "source": [
    "# Conclusion"
   ]
  },
  {
   "cell_type": "markdown",
   "metadata": {},
   "source": [
    "The release of TensorFlow was a landmark event in deep learning research. Its flexibility and performance allows researchers to develop all kinds of sophisticated neural network architectures as well as other ML algorithms. However, flexibility comes at the cost of longer time-to-model cycles compared to higher level APIs such as Keras or MxNet. Nonetheless, I am sure that TensorFlow will make its way to the de-facto standard in neural network and deep learning development in research and practical applications.\n",
    "\n",
    "In a real life scenario this will not be even close. In this situation is overfitting my principal graph. In statistics, overfitting is \"the production of an analysis that corresponds too closely or exactly to a particular set of data, and may therefore fail to fit additional data or predict future observations reliably\".There’s a lot more to stock price prediction than past market prices."
   ]
  },
  {
   "cell_type": "markdown",
   "metadata": {},
   "source": [
    "# Acknowledgements"
   ]
  },
  {
   "cell_type": "markdown",
   "metadata": {},
   "source": [
    "- Special thanks to these people for my project\n",
    "***\n",
    "**Sebastian Heinz**\n",
    "- I based much of my code from this site, also the dataset was on this site.\n",
    "- URL: https://medium.com/mlreview/a-simple-deep-learning-model-for-stock-price-prediction-using-tensorflow-30505541d877\n",
    "***\n",
    "**Kulbear**\n",
    "- I learned a lot about the math and how to structure everything with this github.\n",
    "- URL: https://github.com/Kulbear/stock-prediction\n",
    "***\n",
    "**Tracey Sconyers**\n",
    "- Tracey gave me the idea of putting in indicators so when the code finishes a certain part like modeling the data, a message will appear for the user so the user knows what is going on.\n",
    "***\n",
    "**Michael Gary**\n",
    "- Thank you Gary for taking my original idea"
   ]
  },
  {
   "cell_type": "code",
   "execution_count": null,
   "metadata": {
    "collapsed": true
   },
   "outputs": [],
   "source": []
  }
 ],
 "metadata": {
  "kernelspec": {
   "display_name": "Python 3",
   "language": "python",
   "name": "python3"
  },
  "language_info": {
   "codemirror_mode": {
    "name": "ipython",
    "version": 3
   },
   "file_extension": ".py",
   "mimetype": "text/x-python",
   "name": "python",
   "nbconvert_exporter": "python",
   "pygments_lexer": "ipython3",
   "version": "3.6.1"
  }
 },
 "nbformat": 4,
 "nbformat_minor": 2
}
